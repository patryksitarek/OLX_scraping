{
 "cells": [
  {
   "cell_type": "code",
   "execution_count": 13,
   "id": "c6c0bf12",
   "metadata": {},
   "outputs": [],
   "source": [
    "from Olx_Scraper import Olx_Scraper\n",
    "from getpass import getpass"
   ]
  },
  {
   "cell_type": "markdown",
   "id": "d715bfdb",
   "metadata": {},
   "source": [
    "Initialization"
   ]
  },
  {
   "cell_type": "code",
   "execution_count": 14,
   "id": "2aeff6f3",
   "metadata": {},
   "outputs": [
    {
     "name": "stdout",
     "output_type": "stream",
     "text": [
      "········\n"
     ]
    }
   ],
   "source": [
    "url = 'https://www.olx.pl/oferty/q-cormen-wprowadzenie-do-algorytm%C3%B3w/'\n",
    "a = Olx_Scraper(url,\n",
    "                send_notification = True,\n",
    "                notification_mail = 'TYPE YOUR E-MAIL ADDRESS',\n",
    "                sender_mail = 'TYPE SENDER GMAIL ADDRESS',\n",
    "                sender_pass = getpass())"
   ]
  },
  {
   "cell_type": "markdown",
   "id": "e006e88c",
   "metadata": {},
   "source": [
    "Scrap instance. If it finds any offers, you will get e-mail."
   ]
  },
  {
   "cell_type": "code",
   "execution_count": 15,
   "id": "bb957602",
   "metadata": {},
   "outputs": [
    {
     "data": {
      "text/plain": [
       "[('Wprowadzenie do algorytmów - Thomas H. Cormen',\n",
       "  35.0,\n",
       "  False,\n",
       "  'Szczecin, Centrum',\n",
       "  733172248),\n",
       " ('Książka Wprowadzenie do algorytmów T.H.Cormen - WAWA',\n",
       "  100.0,\n",
       "  True,\n",
       "  'Warszawa, Mokotów',\n",
       "  720684254),\n",
       " ('Wprowadzenie do algorytmów, T.H. Cormen, C.E. Leiserson, R.L. Rivest',\n",
       "  80.0,\n",
       "  True,\n",
       "  'Gdynia, Wielki Kack',\n",
       "  697268316),\n",
       " ('Zestaw Cormen Algorytmy bez tajemnic plus Wprowadzenie do algorytmów',\n",
       "  120.0,\n",
       "  True,\n",
       "  'Poznań, Piątkowo',\n",
       "  583593795),\n",
       " ('Cormen, Leiserson, Rivest, Stein - Wprowadzenie do algorytmów',\n",
       "  80.0,\n",
       "  False,\n",
       "  'Łódź, Bałuty',\n",
       "  730719790),\n",
       " ('Wprowadzenie do algorytmów Thomas H. Cormen',\n",
       "  0.0,\n",
       "  False,\n",
       "  'Warszawa, Targówek',\n",
       "  729063317)]"
      ]
     },
     "execution_count": 15,
     "metadata": {},
     "output_type": "execute_result"
    }
   ],
   "source": [
    "a.scrap()"
   ]
  },
  {
   "cell_type": "markdown",
   "id": "db30b430",
   "metadata": {},
   "source": [
    "You can just get dataframe:"
   ]
  },
  {
   "cell_type": "code",
   "execution_count": 16,
   "id": "31b58a9a",
   "metadata": {},
   "outputs": [
    {
     "data": {
      "text/html": [
       "<div>\n",
       "<style scoped>\n",
       "    .dataframe tbody tr th:only-of-type {\n",
       "        vertical-align: middle;\n",
       "    }\n",
       "\n",
       "    .dataframe tbody tr th {\n",
       "        vertical-align: top;\n",
       "    }\n",
       "\n",
       "    .dataframe thead th {\n",
       "        text-align: right;\n",
       "    }\n",
       "</style>\n",
       "<table border=\"1\" class=\"dataframe\">\n",
       "  <thead>\n",
       "    <tr style=\"text-align: center;\">\n",
       "      <th></th>\n",
       "      <th>tytuł</th>\n",
       "      <th>cena</th>\n",
       "      <th>dostawa olx</th>\n",
       "      <th>lokalizacja</th>\n",
       "      <th>id</th>\n",
       "    </tr>\n",
       "  </thead>\n",
       "  <tbody>\n",
       "    <tr>\n",
       "      <th>0</th>\n",
       "      <td>Wprowadzenie do algorytmów Thomas H. Cormen</td>\n",
       "      <td>0.0</td>\n",
       "      <td>False</td>\n",
       "      <td>Warszawa, Targówek</td>\n",
       "      <td>729063317</td>\n",
       "    </tr>\n",
       "    <tr>\n",
       "      <th>1</th>\n",
       "      <td>Wprowadzenie do algorytmów - Thomas H. Cormen</td>\n",
       "      <td>35.0</td>\n",
       "      <td>False</td>\n",
       "      <td>Szczecin, Centrum</td>\n",
       "      <td>733172248</td>\n",
       "    </tr>\n",
       "    <tr>\n",
       "      <th>2</th>\n",
       "      <td>Wprowadzenie do algorytmów, T.H. Cormen, C.E. ...</td>\n",
       "      <td>80.0</td>\n",
       "      <td>True</td>\n",
       "      <td>Gdynia, Wielki Kack</td>\n",
       "      <td>697268316</td>\n",
       "    </tr>\n",
       "    <tr>\n",
       "      <th>3</th>\n",
       "      <td>Cormen, Leiserson, Rivest, Stein - Wprowadzeni...</td>\n",
       "      <td>80.0</td>\n",
       "      <td>False</td>\n",
       "      <td>Łódź, Bałuty</td>\n",
       "      <td>730719790</td>\n",
       "    </tr>\n",
       "    <tr>\n",
       "      <th>4</th>\n",
       "      <td>Książka Wprowadzenie do algorytmów T.H.Cormen ...</td>\n",
       "      <td>100.0</td>\n",
       "      <td>True</td>\n",
       "      <td>Warszawa, Mokotów</td>\n",
       "      <td>720684254</td>\n",
       "    </tr>\n",
       "    <tr>\n",
       "      <th>5</th>\n",
       "      <td>Zestaw Cormen Algorytmy bez tajemnic plus Wpro...</td>\n",
       "      <td>120.0</td>\n",
       "      <td>True</td>\n",
       "      <td>Poznań, Piątkowo</td>\n",
       "      <td>583593795</td>\n",
       "    </tr>\n",
       "  </tbody>\n",
       "</table>\n",
       "</div>"
      ],
      "text/plain": [
       "                        tytuł                         cena   dostawa olx  \\\n",
       "0        Wprowadzenie do algorytmów Thomas H. Cormen    0.0     False      \n",
       "1      Wprowadzenie do algorytmów - Thomas H. Cormen   35.0     False      \n",
       "2  Wprowadzenie do algorytmów, T.H. Cormen, C.E. ...   80.0      True      \n",
       "3  Cormen, Leiserson, Rivest, Stein - Wprowadzeni...   80.0     False      \n",
       "4  Książka Wprowadzenie do algorytmów T.H.Cormen ...  100.0      True      \n",
       "5  Zestaw Cormen Algorytmy bez tajemnic plus Wpro...  120.0      True      \n",
       "\n",
       "      lokalizacja          id      \n",
       "0   Warszawa, Targówek  729063317  \n",
       "1    Szczecin, Centrum  733172248  \n",
       "2  Gdynia, Wielki Kack  697268316  \n",
       "3         Łódź, Bałuty  730719790  \n",
       "4    Warszawa, Mokotów  720684254  \n",
       "5     Poznań, Piątkowo  583593795  "
      ]
     },
     "execution_count": 16,
     "metadata": {},
     "output_type": "execute_result"
    }
   ],
   "source": [
    "a.get_dataframe(a.data)"
   ]
  },
  {
   "cell_type": "markdown",
   "id": "a1e9560e",
   "metadata": {},
   "source": [
    "Run a.scrap() periodically to check new offers. The e-mail will only be sent if something changes."
   ]
  },
  {
   "cell_type": "markdown",
   "id": "26bfd3b9",
   "metadata": {},
   "source": [
    "This is what the e-mail looks like:\n",
    "<img src=\"mail.jpg\">"
   ]
  }
 ],
 "metadata": {
  "kernelspec": {
   "display_name": "Python 3",
   "language": "python",
   "name": "python3"
  },
  "language_info": {
   "codemirror_mode": {
    "name": "ipython",
    "version": 3
   },
   "file_extension": ".py",
   "mimetype": "text/x-python",
   "name": "python",
   "nbconvert_exporter": "python",
   "pygments_lexer": "ipython3",
   "version": "3.9.4"
  }
 },
 "nbformat": 4,
 "nbformat_minor": 5
}
